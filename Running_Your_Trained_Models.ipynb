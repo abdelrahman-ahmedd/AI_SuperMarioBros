{
 "cells": [
  {
   "cell_type": "code",
   "execution_count": null,
   "metadata": {},
   "outputs": [],
   "source": [
    "import gymnasium as gym\n",
    "import gym_super_mario_bros\n",
    "from nes_py.wrappers import JoypadSpace\n",
    "from gym_super_mario_bros.actions import SIMPLE_MOVEMENT\n",
    "\n",
    "#grayscale helps converting our frames into grayscale\n",
    "from gym.wrappers import GrayScaleObservation\n",
    "\n",
    "# import vectorization wrappers\n",
    "#framestack to capture multiple frames not just one to gather info about how everything moves and at which direction\n",
    "from stable_baselines3.common.vec_env import VecFrameStack,DummyVecEnv\n",
    "\n",
    "#import os for file path management\n",
    "import os\n",
    "\n",
    "#import PPO for algos\n",
    "from stable_baselines3 import PPO\n",
    "\n",
    "#import base Callback for saving models which saves your progress like checkpoints\n",
    "from stable_baselines3.common.callbacks import BaseCallback"
   ]
  },
  {
   "cell_type": "code",
   "execution_count": null,
   "metadata": {},
   "outputs": [],
   "source": [
    "# 1- creating our base environment\n",
    "env = gym_super_mario_bros.make('SuperMarioBros-v0')\n",
    "\n",
    "# 2- simplifying the env (instead of discrete(256) it is simplified to discrete(7))\n",
    "env = JoypadSpace(env, SIMPLE_MOVEMENT)\n",
    "\n",
    "\n",
    "# 3- grayscale\n",
    "env = GrayScaleObservation(env, keep_dim=True)\n",
    "\n",
    "\n",
    "# 4- wrapper inside the Dummy environment\n",
    "env = DummyVecEnv([lambda: env])\n",
    "\n",
    "# 5- stack the frames\n",
    "env = VecFrameStack(env, 4, channels_order='last')"
   ]
  },
  {
   "cell_type": "code",
   "execution_count": null,
   "metadata": {},
   "outputs": [],
   "source": [
    "model = PPO.load('./callback/best_model_760000')"
   ]
  },
  {
   "cell_type": "code",
   "execution_count": null,
   "metadata": {},
   "outputs": [],
   "source": [
    "\n",
    "state =env.reset()\n",
    "while True:\n",
    "    action, _ = model.predict(state)\n",
    "    state ,reward,done,info =env.step(action)\n",
    "    env.render(mode='human')"
   ]
  }
 ],
 "metadata": {
  "kernelspec": {
   "display_name": "base",
   "language": "python",
   "name": "python3"
  },
  "language_info": {
   "codemirror_mode": {
    "name": "ipython",
    "version": 3
   },
   "file_extension": ".py",
   "mimetype": "text/x-python",
   "name": "python",
   "nbconvert_exporter": "python",
   "pygments_lexer": "ipython3",
   "version": "3.11.5"
  }
 },
 "nbformat": 4,
 "nbformat_minor": 2
}
