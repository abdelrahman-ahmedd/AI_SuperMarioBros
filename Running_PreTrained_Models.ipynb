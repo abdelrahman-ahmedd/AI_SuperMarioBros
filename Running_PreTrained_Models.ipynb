{
 "cells": [
  {
   "cell_type": "code",
   "execution_count": null,
   "metadata": {},
   "outputs": [],
   "source": [
    "# import dependencies\n",
    "import gym \n",
    "from stable_baselines3 import PPO\n",
    "from stable_baselines3.common.vec_env import DummyVecEnv, VecEnv\n",
    "from stable_baselines3.common.evaluation import evaluate_policy\n",
    "\n",
    "import os\n",
    "\n",
    "from gym_utils import SMBRamWrapper, load_smb_env, SMB"
   ]
  },
  {
   "cell_type": "code",
   "execution_count": null,
   "metadata": {},
   "outputs": [],
   "source": [
    "# Select a pre-trained model\n",
    "MODEL_DIR = './pre_trained_models'\n",
    "\n",
    "# obs = 4 frames\n",
    "#crop_dim = [0, 16, 0, 13]\n",
    "#n_stack = 4\n",
    "#n_skip = 4\n",
    "#MODEL_NAME = 'model_1'\n",
    "\n",
    "# obs = 1 frames\n",
    "#crop_dim = [0, 16, 0, 13]\n",
    "#n_stack = 1\n",
    "#n_skip = 1\n",
    "#MODEL_NAME = 'model_2'\n",
    "\n",
    "\n",
    "# obs = 2 frames\n",
    "crop_dim = [0, 16, 0, 13]\n",
    "n_stack = 2\n",
    "n_skip = 4\n",
    "MODEL_NAME = 'model_3'"
   ]
  },
  {
   "cell_type": "code",
   "execution_count": null,
   "metadata": {},
   "outputs": [],
   "source": [
    "# load env and model\n",
    "env_wrap = load_smb_env('SuperMarioBros-1-1-v0', crop_dim, n_stack, n_skip)\n",
    "\n",
    "model = PPO.load(os.path.join(MODEL_DIR, MODEL_NAME), env=env_wrap)\n",
    "\n",
    "smb = SMB(env_wrap, model)"
   ]
  },
  {
   "cell_type": "code",
   "execution_count": null,
   "metadata": {},
   "outputs": [],
   "source": [
    "smb.play(episodes=1, deterministic=True, render=True, return_eval=True)"
   ]
  }
 ],
 "metadata": {
  "kernelspec": {
   "display_name": "base",
   "language": "python",
   "name": "python3"
  },
  "language_info": {
   "codemirror_mode": {
    "name": "ipython",
    "version": 3
   },
   "file_extension": ".py",
   "mimetype": "text/x-python",
   "name": "python",
   "nbconvert_exporter": "python",
   "pygments_lexer": "ipython3",
   "version": "3.11.5"
  }
 },
 "nbformat": 4,
 "nbformat_minor": 2
}
